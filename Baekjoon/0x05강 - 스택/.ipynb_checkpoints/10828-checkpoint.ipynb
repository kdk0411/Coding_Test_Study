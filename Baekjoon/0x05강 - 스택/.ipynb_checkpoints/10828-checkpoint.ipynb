{
 "cells": [
  {
   "cell_type": "markdown",
   "id": "a1b7cdc5",
   "metadata": {},
   "source": [
    "# 스택"
   ]
  },
  {
   "cell_type": "code",
   "execution_count": null,
   "id": "9f360912",
   "metadata": {},
   "outputs": [],
   "source": [
    "import sys\n",
    "\n",
    "stack = list()\n",
    "for _ in range(int(sys.stdin.readline())):\n",
    "    stack_unit = list(sys.stdin.readline().split())\n",
    "    \n",
    "    if stack_unit[0] == 'pop':\n",
    "        if stack:\n",
    "            print(stack.pop())\n",
    "        else:\n",
    "            print(-1)\n",
    "        \n",
    "    elif stack_unit[0] == 'size':\n",
    "        print(len(stack))\n",
    "        \n",
    "    elif stack_unit[0] == 'empty':\n",
    "        print(1 if not stack else 0)\n",
    "\n",
    "    elif stack_unit[0] == 'top':\n",
    "        if stack:\n",
    "            print(stack[-1])\n",
    "        else:\n",
    "            print(-1)\n",
    "            \n",
    "    elif stack_unit[0] == 'push':\n",
    "        stack.append(stack_unit[1])"
   ]
  }
 ],
 "metadata": {
  "kernelspec": {
   "display_name": "Python 3 (ipykernel)",
   "language": "python",
   "name": "python3"
  },
  "language_info": {
   "codemirror_mode": {
    "name": "ipython",
    "version": 3
   },
   "file_extension": ".py",
   "mimetype": "text/x-python",
   "name": "python",
   "nbconvert_exporter": "python",
   "pygments_lexer": "ipython3",
   "version": "3.11.5"
  }
 },
 "nbformat": 4,
 "nbformat_minor": 5
}
