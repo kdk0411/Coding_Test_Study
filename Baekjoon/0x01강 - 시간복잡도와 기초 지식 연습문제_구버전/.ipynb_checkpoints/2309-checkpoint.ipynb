{
 "cells": [
  {
   "cell_type": "markdown",
   "id": "4afa5e36",
   "metadata": {},
   "source": [
    "# 일곱 난쟁이"
   ]
  },
  {
   "cell_type": "markdown",
   "id": "6379683a",
   "metadata": {},
   "source": [
    "## 문제"
   ]
  },
  {
   "cell_type": "markdown",
   "id": "92f588d2",
   "metadata": {},
   "source": [
    "왕비를 피해 일곱 난쟁이들과 함께 평화롭게 생활하고 있던 백설공주에게 위기가 찾아왔다.<br>\n",
    "일과를 마치고 돌아온 난쟁이가 일곱 명이 아닌 아홉 명이었던 것이다.<br>\n",
    "\n",
    "아홉 명의 난쟁이는 모두 자신이 \"백설 공주와 일곱 난쟁이\"의 주인공이라고 주장했다.<br> \n",
    "뛰어난 수학적 직관력을 가지고 있던 백설공주는, 다행스럽게도 일곱 난쟁이의 키의 합이 100이 됨을 기억해 냈다.<br>\n",
    "\n",
    "아홉 난쟁이의 키가 주어졌을 때, 백설공주를 도와 일곱 난쟁이를 찾는 프로그램을 작성하시오."
   ]
  },
  {
   "cell_type": "markdown",
   "id": "7575307a",
   "metadata": {},
   "source": [
    "## 입력"
   ]
  },
  {
   "cell_type": "markdown",
   "id": "354a75e0",
   "metadata": {},
   "source": [
    "아홉 개의 줄에 걸쳐 난쟁이들의 키가 주어진다.<br>\n",
    "주어지는 키는 100을 넘지 않는 자연수이며, 아홉 난쟁이의 키는 모두 다르며, 가능한 정답이 여러 가지인 경우에는 아무거나 출력한다."
   ]
  },
  {
   "cell_type": "markdown",
   "id": "bcf2eb56",
   "metadata": {},
   "source": [
    "## 출력"
   ]
  },
  {
   "cell_type": "markdown",
   "id": "d3b93b2b",
   "metadata": {},
   "source": [
    "일곱 난쟁이의 키를 오름차순으로 출력한다. 일곱 난쟁이를 찾을 수 없는 경우는 없다."
   ]
  },
  {
   "cell_type": "markdown",
   "id": "c1dd894e",
   "metadata": {},
   "source": [
    "## 예제 입력"
   ]
  },
  {
   "cell_type": "raw",
   "id": "a094dedf",
   "metadata": {},
   "source": [
    "20\n",
    "7\n",
    "23\n",
    "19\n",
    "10\n",
    "15\n",
    "25\n",
    "8\n",
    "13"
   ]
  },
  {
   "cell_type": "markdown",
   "id": "05b958cd",
   "metadata": {},
   "source": [
    "## 예제 출력"
   ]
  },
  {
   "cell_type": "raw",
   "id": "6fb25618",
   "metadata": {},
   "source": [
    "7\n",
    "8\n",
    "10\n",
    "13\n",
    "19\n",
    "20\n",
    "23"
   ]
  },
  {
   "cell_type": "code",
   "execution_count": 15,
   "id": "3dec08b3",
   "metadata": {
    "collapsed": true
   },
   "outputs": [
    {
     "name": "stdout",
     "output_type": "stream",
     "text": [
      "20\n",
      "7\n",
      "23\n",
      "19\n",
      "10\n",
      "15\n",
      "25\n",
      "8\n",
      "13\n"
     ]
    },
    {
     "ename": "TypeError",
     "evalue": "'int' object is not callable",
     "output_type": "error",
     "traceback": [
      "\u001b[1;31m---------------------------------------------------------------------------\u001b[0m",
      "\u001b[1;31mTypeError\u001b[0m                                 Traceback (most recent call last)",
      "Cell \u001b[1;32mIn[15], line 18\u001b[0m\n\u001b[0;32m     15\u001b[0m         dfs(depth \u001b[38;5;241m+\u001b[39m \u001b[38;5;241m1\u001b[39m, i \u001b[38;5;241m+\u001b[39m \u001b[38;5;241m1\u001b[39m)\n\u001b[0;32m     16\u001b[0m         ret\u001b[38;5;241m.\u001b[39mpop()\n\u001b[1;32m---> 18\u001b[0m dfs(\u001b[38;5;241m0\u001b[39m, \u001b[38;5;241m0\u001b[39m)\n",
      "Cell \u001b[1;32mIn[15], line 15\u001b[0m, in \u001b[0;36mdfs\u001b[1;34m(depth, start)\u001b[0m\n\u001b[0;32m     13\u001b[0m \u001b[38;5;28;01mfor\u001b[39;00m i \u001b[38;5;129;01min\u001b[39;00m \u001b[38;5;28mrange\u001b[39m(start, \u001b[38;5;28mlen\u001b[39m(arr)):\n\u001b[0;32m     14\u001b[0m     ret\u001b[38;5;241m.\u001b[39mappend(arr[i])\n\u001b[1;32m---> 15\u001b[0m     dfs(depth \u001b[38;5;241m+\u001b[39m \u001b[38;5;241m1\u001b[39m, i \u001b[38;5;241m+\u001b[39m \u001b[38;5;241m1\u001b[39m)\n\u001b[0;32m     16\u001b[0m     ret\u001b[38;5;241m.\u001b[39mpop()\n",
      "Cell \u001b[1;32mIn[15], line 15\u001b[0m, in \u001b[0;36mdfs\u001b[1;34m(depth, start)\u001b[0m\n\u001b[0;32m     13\u001b[0m \u001b[38;5;28;01mfor\u001b[39;00m i \u001b[38;5;129;01min\u001b[39;00m \u001b[38;5;28mrange\u001b[39m(start, \u001b[38;5;28mlen\u001b[39m(arr)):\n\u001b[0;32m     14\u001b[0m     ret\u001b[38;5;241m.\u001b[39mappend(arr[i])\n\u001b[1;32m---> 15\u001b[0m     dfs(depth \u001b[38;5;241m+\u001b[39m \u001b[38;5;241m1\u001b[39m, i \u001b[38;5;241m+\u001b[39m \u001b[38;5;241m1\u001b[39m)\n\u001b[0;32m     16\u001b[0m     ret\u001b[38;5;241m.\u001b[39mpop()\n",
      "    \u001b[1;31m[... skipping similar frames: dfs at line 15 (4 times)]\u001b[0m\n",
      "Cell \u001b[1;32mIn[15], line 15\u001b[0m, in \u001b[0;36mdfs\u001b[1;34m(depth, start)\u001b[0m\n\u001b[0;32m     13\u001b[0m \u001b[38;5;28;01mfor\u001b[39;00m i \u001b[38;5;129;01min\u001b[39;00m \u001b[38;5;28mrange\u001b[39m(start, \u001b[38;5;28mlen\u001b[39m(arr)):\n\u001b[0;32m     14\u001b[0m     ret\u001b[38;5;241m.\u001b[39mappend(arr[i])\n\u001b[1;32m---> 15\u001b[0m     dfs(depth \u001b[38;5;241m+\u001b[39m \u001b[38;5;241m1\u001b[39m, i \u001b[38;5;241m+\u001b[39m \u001b[38;5;241m1\u001b[39m)\n\u001b[0;32m     16\u001b[0m     ret\u001b[38;5;241m.\u001b[39mpop()\n",
      "Cell \u001b[1;32mIn[15], line 6\u001b[0m, in \u001b[0;36mdfs\u001b[1;34m(depth, start)\u001b[0m\n\u001b[0;32m      4\u001b[0m \u001b[38;5;28;01mdef\u001b[39;00m \u001b[38;5;21mdfs\u001b[39m(depth, start):\n\u001b[0;32m      5\u001b[0m     \u001b[38;5;28;01mif\u001b[39;00m depth \u001b[38;5;241m==\u001b[39m \u001b[38;5;241m7\u001b[39m:\n\u001b[1;32m----> 6\u001b[0m         \u001b[38;5;28;01mif\u001b[39;00m ret \u001b[38;5;129;01mand\u001b[39;00m \u001b[38;5;28msum\u001b[39m(ret) \u001b[38;5;241m==\u001b[39m \u001b[38;5;241m100\u001b[39m:\n\u001b[0;32m      7\u001b[0m             \u001b[38;5;28;01mfor\u001b[39;00m i \u001b[38;5;129;01min\u001b[39;00m \u001b[38;5;28msorted\u001b[39m(ret):\n\u001b[0;32m      8\u001b[0m                 \u001b[38;5;28mprint\u001b[39m(i)\n",
      "\u001b[1;31mTypeError\u001b[0m: 'int' object is not callable"
     ]
    }
   ],
   "source": [
    "arr = [int(input()) for _ in range(9)]\n",
    "ret = []\n",
    "\n",
    "def dfs(depth, start):\n",
    "    if depth == 7:\n",
    "        if ret and sum(ret) == 100:\n",
    "            for i in sorted(ret):\n",
    "                print(i)\n",
    "            exit()\n",
    "        else:\n",
    "            return\n",
    "\n",
    "    for i in range(start, len(arr)):\n",
    "        ret.append(arr[i])\n",
    "        dfs(depth + 1, i + 1)\n",
    "        ret.pop()\n",
    "\n",
    "dfs(0, 0)"
   ]
  },
  {
   "cell_type": "code",
   "execution_count": 12,
   "id": "3c381d31",
   "metadata": {},
   "outputs": [
    {
     "name": "stdout",
     "output_type": "stream",
     "text": [
      "20\n",
      "7\n",
      "23\n",
      "19\n",
      "10\n",
      "15\n",
      "25\n",
      "8\n",
      "13\n",
      "[25, 23, 20, 19, 15, 13, 10, 8, 7]\n",
      "[10, 19, 20, 23, 25]\n",
      "\n"
     ]
    }
   ],
   "source": [
    "short_men = [int(input()) for _ in range(9)]\n",
    "seven_short_temp = []  # 7명을 뽑아 합을 조사할 새로운 리스트 선언\n",
    "\n",
    "\n",
    "def dfs(depth, start):\n",
    "    if depth == 7:  # 만약 7번 재귀를 돌았다면\n",
    "        if sum(seven_short_temp) == 100:  # 현재 저장된 일곱난쟁이들의 합이 100이라면\n",
    "            for j in sorted(seven_short_temp):  # 오름차순으로 정렬 후 출력\n",
    "                print(j)\n",
    "            exit()  # 그 후 코드 종료\n",
    "        else:  # 만약 7명을 뽑았는데 합이 100이 아니라면\n",
    "            return  # 해당 재귀를 더이상 실행하지 않고 종료\n",
    "\n",
    "    for i in range(start, len(short_men)):  # 시작인덱스와 9명의 난쟁이가 있으므로 9번을 돈다.\n",
    "        seven_short_temp.append(short_men[i])  # 난쟁이 한명을 추가한다.\n",
    "        dfs(depth + 1, i + 1)  # dfs를 돈다(다음번 깊이는 +1로 해주고 인덱스는 중복되지 않게 하기위해서 다음 인덱스를 넣어준다.)\n",
    "        seven_short_temp.pop()  # dfs를 돌다 7명이 다 찼으나 합이 100이 아니어서 return 되었으면 넣었던 난쟁이 한명을 다시 빼준다.\n",
    "\n",
    "\n",
    "dfs(0, 0)  # dfs를 돈다."
   ]
  },
  {
   "cell_type": "code",
   "execution_count": null,
   "id": "ea680304",
   "metadata": {},
   "outputs": [],
   "source": []
  }
 ],
 "metadata": {
  "kernelspec": {
   "display_name": "Python 3 (ipykernel)",
   "language": "python",
   "name": "python3"
  },
  "language_info": {
   "codemirror_mode": {
    "name": "ipython",
    "version": 3
   },
   "file_extension": ".py",
   "mimetype": "text/x-python",
   "name": "python",
   "nbconvert_exporter": "python",
   "pygments_lexer": "ipython3",
   "version": "3.11.5"
  }
 },
 "nbformat": 4,
 "nbformat_minor": 5
}
