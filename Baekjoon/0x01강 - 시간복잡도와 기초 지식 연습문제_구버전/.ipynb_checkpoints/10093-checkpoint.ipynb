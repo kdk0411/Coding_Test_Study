{
 "cells": [
  {
   "cell_type": "markdown",
   "id": "7897a0a9",
   "metadata": {},
   "source": [
    "# 숫자"
   ]
  },
  {
   "cell_type": "markdown",
   "id": "dd8f1843",
   "metadata": {},
   "source": [
    "## 문제"
   ]
  },
  {
   "cell_type": "markdown",
   "id": "f286bace",
   "metadata": {},
   "source": [
    "두 양의 정수가 주어졌을 때, 두 수 사이에 있는 정수를 모두 출력하는 프로그램을 작성하시오."
   ]
  },
  {
   "cell_type": "markdown",
   "id": "d18d7f84",
   "metadata": {},
   "source": [
    "## 입력"
   ]
  },
  {
   "cell_type": "markdown",
   "id": "5d0133d5",
   "metadata": {},
   "source": [
    "두 정수 A와 B가 주어진다."
   ]
  },
  {
   "cell_type": "markdown",
   "id": "673f3e11",
   "metadata": {},
   "source": [
    "## 출력"
   ]
  },
  {
   "cell_type": "markdown",
   "id": "659993f8",
   "metadata": {},
   "source": [
    "첫째 줄에 두 수 사이에 있는 수의 개수를 출력한다.\n",
    "\n",
    "둘째 줄에는 두 수 사이에 있는 수를 오름차순으로 출력한다."
   ]
  },
  {
   "cell_type": "markdown",
   "id": "78ee816f",
   "metadata": {},
   "source": [
    "## 서브태스크"
   ]
  },
  {
   "cell_type": "markdown",
   "id": "02d34a19",
   "metadata": {},
   "source": [
    "|번호|배점|제한|\n",
    "|:-:|:-:|:-:|\n",
    "|1|30|1 ≤ A, B ≤ 1000.|\n",
    "|2|70|1 ≤ A, B ≤ 1015, A와 B의 차이는 최대 100,000.|"
   ]
  },
  {
   "cell_type": "markdown",
   "id": "c0da42c0",
   "metadata": {},
   "source": [
    "## 예제 입력"
   ]
  },
  {
   "cell_type": "raw",
   "id": "487312db",
   "metadata": {},
   "source": [
    "8 14"
   ]
  },
  {
   "cell_type": "markdown",
   "id": "8c279f4f",
   "metadata": {},
   "source": [
    "## 예제 출력"
   ]
  },
  {
   "cell_type": "raw",
   "id": "2d288b34",
   "metadata": {},
   "source": [
    "5\n",
    "9 10 11 12 13"
   ]
  },
  {
   "cell_type": "code",
   "execution_count": 13,
   "id": "8a361e83",
   "metadata": {},
   "outputs": [
    {
     "name": "stdout",
     "output_type": "stream",
     "text": [
      "14 8\n",
      "5\n",
      "9 10 11 12 13 "
     ]
    }
   ],
   "source": [
    "a, b = map(int,input().split())\n",
    "start, end = min(a, b), max(a, b)\n",
    "\n",
    "middle = end - start - 1\n",
    "if start == end or start+1 == end:\n",
    "    middle = 0\n",
    "print(middle)\n",
    "\n",
    "for i in range(start+1, end):\n",
    "    print(i, end=' ')"
   ]
  }
 ],
 "metadata": {
  "kernelspec": {
   "display_name": "Python 3 (ipykernel)",
   "language": "python",
   "name": "python3"
  },
  "language_info": {
   "codemirror_mode": {
    "name": "ipython",
    "version": 3
   },
   "file_extension": ".py",
   "mimetype": "text/x-python",
   "name": "python",
   "nbconvert_exporter": "python",
   "pygments_lexer": "ipython3",
   "version": "3.11.5"
  }
 },
 "nbformat": 4,
 "nbformat_minor": 5
}
