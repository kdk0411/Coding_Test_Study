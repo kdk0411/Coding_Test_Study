{
 "cells": [
  {
   "cell_type": "markdown",
   "id": "2599ca7a",
   "metadata": {},
   "source": [
    "# 에디터"
   ]
  },
  {
   "cell_type": "code",
   "execution_count": 12,
   "id": "f511967d",
   "metadata": {},
   "outputs": [
    {
     "ename": "ValueError",
     "evalue": "invalid literal for int() with base 10: ''",
     "output_type": "error",
     "traceback": [
      "\u001b[1;31m---------------------------------------------------------------------------\u001b[0m",
      "\u001b[1;31mValueError\u001b[0m                                Traceback (most recent call last)",
      "Cell \u001b[1;32mIn[12], line 4\u001b[0m\n\u001b[0;32m      1\u001b[0m \u001b[38;5;28;01mimport\u001b[39;00m \u001b[38;5;21;01msys\u001b[39;00m\n\u001b[0;32m      3\u001b[0m data \u001b[38;5;241m=\u001b[39m \u001b[38;5;28mlist\u001b[39m(sys\u001b[38;5;241m.\u001b[39mstdin\u001b[38;5;241m.\u001b[39mreadline()\u001b[38;5;241m.\u001b[39mstrip())\n\u001b[1;32m----> 4\u001b[0m num \u001b[38;5;241m=\u001b[39m \u001b[38;5;28mint\u001b[39m(sys\u001b[38;5;241m.\u001b[39mstdin\u001b[38;5;241m.\u001b[39mreadline())\n\u001b[0;32m      5\u001b[0m cursor \u001b[38;5;241m=\u001b[39m \u001b[38;5;28mlen\u001b[39m(data)\n\u001b[0;32m      7\u001b[0m \u001b[38;5;28;01mfor\u001b[39;00m _ \u001b[38;5;129;01min\u001b[39;00m \u001b[38;5;28mrange\u001b[39m(num):\n",
      "\u001b[1;31mValueError\u001b[0m: invalid literal for int() with base 10: ''"
     ]
    }
   ],
   "source": [
    "import sys\n",
    "\n",
    "data = list(sys.stdin.readline().rstrip())\n",
    "data_sub = []\n",
    "\n",
    "for _ in range(int(sys.stdin.readline())):\n",
    "    ret = list(sys.stdin.readline().split())\n",
    "    \n",
    "    if ret[0] == 'L':\n",
    "        if data:\n",
    "            data_sub.append(data.pop())\n",
    "    \n",
    "    elif ret[0] == 'D':\n",
    "        if data_sub:\n",
    "            data.append(data_sub.pop())\n",
    "    \n",
    "    elif ret[0] == 'B':\n",
    "        if data:\n",
    "            data.pop()\n",
    "    \n",
    "    else:\n",
    "        data.append(ret[1])\n",
    "\n",
    "data.extend(reversed(data_sub))\n",
    "print(''.join(data))"
   ]
  }
 ],
 "metadata": {
  "kernelspec": {
   "display_name": "Python 3 (ipykernel)",
   "language": "python",
   "name": "python3"
  },
  "language_info": {
   "codemirror_mode": {
    "name": "ipython",
    "version": 3
   },
   "file_extension": ".py",
   "mimetype": "text/x-python",
   "name": "python",
   "nbconvert_exporter": "python",
   "pygments_lexer": "ipython3",
   "version": "3.11.5"
  }
 },
 "nbformat": 4,
 "nbformat_minor": 5
}
