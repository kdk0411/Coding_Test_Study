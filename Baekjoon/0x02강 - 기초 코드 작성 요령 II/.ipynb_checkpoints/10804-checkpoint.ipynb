{
 "cells": [
  {
   "cell_type": "markdown",
   "id": "447e18ec",
   "metadata": {},
   "source": [
    "# 카드 역배치"
   ]
  },
  {
   "cell_type": "code",
   "execution_count": 7,
   "id": "f56caaf4",
   "metadata": {},
   "outputs": [
    {
     "name": "stdout",
     "output_type": "stream",
     "text": [
      "5 10\n",
      "start : 5, end : 10\n"
     ]
    }
   ],
   "source": [
    "num_list = [1, 2, 3, 4, 5, 6, 7, 8, 9, 10, 11, 12, 13, 14, 15, 16, 17, 18, 19, 20]\n",
    "for _ in range(10):\n",
    "    start, end = map(int, input().split())\n",
    "    num_list[start:end] = num_list[start:end][::-1]"
   ]
  },
  {
   "cell_type": "code",
   "execution_count": null,
   "id": "0e000609",
   "metadata": {},
   "outputs": [],
   "source": [
    "5 10\n",
    "9 13\n",
    "1 2\n",
    "3 4\n",
    "5 6\n",
    "1 2\n",
    "3 4\n",
    "5 6\n",
    "1 20\n",
    "1 20"
   ]
  },
  {
   "cell_type": "code",
   "execution_count": null,
   "id": "f43adcb5",
   "metadata": {},
   "outputs": [],
   "source": []
  }
 ],
 "metadata": {
  "kernelspec": {
   "display_name": "Python 3 (ipykernel)",
   "language": "python",
   "name": "python3"
  },
  "language_info": {
   "codemirror_mode": {
    "name": "ipython",
    "version": 3
   },
   "file_extension": ".py",
   "mimetype": "text/x-python",
   "name": "python",
   "nbconvert_exporter": "python",
   "pygments_lexer": "ipython3",
   "version": "3.11.5"
  }
 },
 "nbformat": 4,
 "nbformat_minor": 5
}
