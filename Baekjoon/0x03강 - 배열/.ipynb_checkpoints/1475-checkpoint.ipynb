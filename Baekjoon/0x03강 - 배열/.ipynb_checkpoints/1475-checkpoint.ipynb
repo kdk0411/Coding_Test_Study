{
 "cells": [
  {
   "cell_type": "markdown",
   "id": "d38e725f",
   "metadata": {},
   "source": [
    "# 방 번호"
   ]
  },
  {
   "cell_type": "code",
   "execution_count": 12,
   "id": "5fbd4a0c",
   "metadata": {},
   "outputs": [
    {
     "name": "stdout",
     "output_type": "stream",
     "text": [
      "9999\n",
      "2\n"
     ]
    }
   ],
   "source": [
    "ls = list(map(int, input()))\n",
    "num_dict = {0:0, 1:0, 2:0, 3:0, 4:0,\n",
    "           5:0, 6:0, 7:0, 8:0}\n",
    "for num in ls:\n",
    "    if num == 9:\n",
    "        num = 6\n",
    "    num_dict[num] += 1\n",
    "\n",
    "num_dict[6] = (num_dict[6] + 1) // 2\n",
    "\n",
    "print(max(num_dict.values()))"
   ]
  },
  {
   "cell_type": "code",
   "execution_count": null,
   "id": "4f3e5baa",
   "metadata": {},
   "outputs": [],
   "source": []
  }
 ],
 "metadata": {
  "kernelspec": {
   "display_name": "Python 3 (ipykernel)",
   "language": "python",
   "name": "python3"
  },
  "language_info": {
   "codemirror_mode": {
    "name": "ipython",
    "version": 3
   },
   "file_extension": ".py",
   "mimetype": "text/x-python",
   "name": "python",
   "nbconvert_exporter": "python",
   "pygments_lexer": "ipython3",
   "version": "3.11.5"
  }
 },
 "nbformat": 4,
 "nbformat_minor": 5
}
