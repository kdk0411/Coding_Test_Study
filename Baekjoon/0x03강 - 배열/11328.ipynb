{
 "cells": [
  {
   "cell_type": "markdown",
   "id": "23a0587d",
   "metadata": {},
   "source": [
    "# Strfry"
   ]
  },
  {
   "cell_type": "code",
   "execution_count": 17,
   "id": "2e137928",
   "metadata": {},
   "outputs": [
    {
     "name": "stdout",
     "output_type": "stream",
     "text": [
      "1\n",
      "ring gnir\n",
      "Possible\n"
     ]
    }
   ],
   "source": [
    "num = int(input())\n",
    "\n",
    "for i in range(num):\n",
    "    x, y = input().split(\" \")\n",
    "    x = ''.join(sorted(x))\n",
    "    y = ''.join(sorted(y))\n",
    "    if len(x) != len(y):\n",
    "        print(\"Impossible\")\n",
    "        continue\n",
    "    \n",
    "    if x == y:\n",
    "        print(\"Possible\")\n",
    "    else:\n",
    "        print(\"Impossible\")"
   ]
  },
  {
   "cell_type": "code",
   "execution_count": null,
   "id": "292487f0",
   "metadata": {},
   "outputs": [],
   "source": []
  }
 ],
 "metadata": {
  "kernelspec": {
   "display_name": "Python 3 (ipykernel)",
   "language": "python",
   "name": "python3"
  },
  "language_info": {
   "codemirror_mode": {
    "name": "ipython",
    "version": 3
   },
   "file_extension": ".py",
   "mimetype": "text/x-python",
   "name": "python",
   "nbconvert_exporter": "python",
   "pygments_lexer": "ipython3",
   "version": "3.11.5"
  }
 },
 "nbformat": 4,
 "nbformat_minor": 5
}
