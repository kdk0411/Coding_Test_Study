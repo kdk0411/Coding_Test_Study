{
 "cells": [
  {
   "cell_type": "markdown",
   "id": "41366a9c",
   "metadata": {},
   "source": [
    "# 방 배정"
   ]
  },
  {
   "cell_type": "code",
   "execution_count": 7,
   "id": "e0120fb4",
   "metadata": {
    "scrolled": true
   },
   "outputs": [
    {
     "name": "stdout",
     "output_type": "stream",
     "text": [
      "3 3\n",
      "0 3\n",
      "1 5\n",
      "0 6\n",
      "f: [0, 0, 0, 1, 0, 0, 1], m: [0, 0, 0, 0, 0, 1, 0]\n",
      "3\n"
     ]
    }
   ],
   "source": [
    "num, max_num = map(int, input().split())\n",
    "f = [0] * 7\n",
    "m = [0] * 7\n",
    "\n",
    "for i in range(num):\n",
    "    sex, cls = map(int, input().split())\n",
    "    if sex == 0:\n",
    "        f[cls] += 1\n",
    "    else:\n",
    "        m[cls] += 1\n",
    "\n",
    "for i in range(1, 7):\n",
    "    if f[i] % max_num == 0:\n",
    "        f[i] = f[i] // max_num\n",
    "    else:\n",
    "        f[i] = (f[i] // max_num) + 1\n",
    "    \n",
    "    if m[i] % max_num == 0:\n",
    "        m[i] = m[i] // max_num\n",
    "        \n",
    "    else:\n",
    "        m[i] = (m[i] // max_num) + 1\n",
    "        \n",
    "print(sum(f) + sum(m))"
   ]
  }
 ],
 "metadata": {
  "kernelspec": {
   "display_name": "Python 3 (ipykernel)",
   "language": "python",
   "name": "python3"
  },
  "language_info": {
   "codemirror_mode": {
    "name": "ipython",
    "version": 3
   },
   "file_extension": ".py",
   "mimetype": "text/x-python",
   "name": "python",
   "nbconvert_exporter": "python",
   "pygments_lexer": "ipython3",
   "version": "3.11.5"
  }
 },
 "nbformat": 4,
 "nbformat_minor": 5
}
