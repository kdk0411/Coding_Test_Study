{
 "cells": [
  {
   "cell_type": "markdown",
   "id": "35d31baa",
   "metadata": {},
   "source": [
    "# 카드 역배치"
   ]
  },
  {
   "cell_type": "code",
   "execution_count": 11,
   "id": "d19d4404",
   "metadata": {},
   "outputs": [
    {
     "name": "stdout",
     "output_type": "stream",
     "text": [
      "5 10\n",
      "1 2 3 4 10 9 8 7 6 5 11 12 13 14 15 16 17 18 19 20\n",
      "9 13\n",
      "1 2 3 4 10 9 8 7 13 12 11 5 6 14 15 16 17 18 19 20\n",
      "1 2\n",
      "2 1 3 4 10 9 8 7 13 12 11 5 6 14 15 16 17 18 19 20\n",
      "3 4\n",
      "2 1 4 3 10 9 8 7 13 12 11 5 6 14 15 16 17 18 19 20\n",
      "5 6\n",
      "2 1 4 3 9 10 8 7 13 12 11 5 6 14 15 16 17 18 19 20\n",
      "1 2\n",
      "1 2 4 3 9 10 8 7 13 12 11 5 6 14 15 16 17 18 19 20\n",
      "3 4\n",
      "1 2 3 4 9 10 8 7 13 12 11 5 6 14 15 16 17 18 19 20\n",
      "5 6\n",
      "1 2 3 4 10 9 8 7 13 12 11 5 6 14 15 16 17 18 19 20\n",
      "1 20\n",
      "20 19 18 17 16 15 14 6 5 11 12 13 7 8 9 10 4 3 2 1\n",
      "1 20\n",
      "1 2 3 4 10 9 8 7 13 12 11 5 6 14 15 16 17 18 19 20\n"
     ]
    }
   ],
   "source": [
    "num_list = [1, 2, 3, 4, 5, 6, 7, 8, 9, 10, 11, 12, 13, 14, 15, 16, 17, 18, 19, 20]\n",
    "for _ in range(10):\n",
    "    start, end = map(int, input().split())\n",
    "    num_list[start-1:end] = num_list[start-1:end][::-1]\n",
    "    print(' '.join(map(str, num_list)))"
   ]
  }
 ],
 "metadata": {
  "kernelspec": {
   "display_name": "Python 3 (ipykernel)",
   "language": "python",
   "name": "python3"
  },
  "language_info": {
   "codemirror_mode": {
    "name": "ipython",
    "version": 3
   },
   "file_extension": ".py",
   "mimetype": "text/x-python",
   "name": "python",
   "nbconvert_exporter": "python",
   "pygments_lexer": "ipython3",
   "version": "3.11.5"
  }
 },
 "nbformat": 4,
 "nbformat_minor": 5
}
