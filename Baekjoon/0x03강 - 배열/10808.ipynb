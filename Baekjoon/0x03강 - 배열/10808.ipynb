{
 "cells": [
  {
   "cell_type": "markdown",
   "id": "b1b9961e",
   "metadata": {},
   "source": [
    "# 알파벳 개수"
   ]
  },
  {
   "cell_type": "code",
   "execution_count": 6,
   "id": "d5fb2962",
   "metadata": {},
   "outputs": [
    {
     "name": "stdout",
     "output_type": "stream",
     "text": [
      "Baekjoon\n",
      "1 1 0 0 1 0 0 0 0 1 1 0 0 1 2 0 0 0 0 0 0 0 0 0 0 0\n"
     ]
    }
   ],
   "source": [
    "alpha_dict = {chr(i): 0 for i in range(97, 123)}\n",
    "\n",
    "word = input().lower()\n",
    "\n",
    "for i in word:\n",
    "    if i in alpha_dict:\n",
    "        alpha_dict[i] += 1\n",
    "\n",
    "print(' '.join([str(alpha) for alpha in alpha_dict.values()]))"
   ]
  }
 ],
 "metadata": {
  "kernelspec": {
   "display_name": "Python 3 (ipykernel)",
   "language": "python",
   "name": "python3"
  },
  "language_info": {
   "codemirror_mode": {
    "name": "ipython",
    "version": 3
   },
   "file_extension": ".py",
   "mimetype": "text/x-python",
   "name": "python",
   "nbconvert_exporter": "python",
   "pygments_lexer": "ipython3",
   "version": "3.11.5"
  }
 },
 "nbformat": 4,
 "nbformat_minor": 5
}
