{
 "cells": [
  {
   "cell_type": "markdown",
   "id": "54c0b114",
   "metadata": {},
   "source": [
    "# 두 수의 합"
   ]
  },
  {
   "cell_type": "code",
   "execution_count": null,
   "id": "1f00020a",
   "metadata": {},
   "outputs": [],
   "source": [
    "num = int(input())\n",
    "ls = sorted(list(map(int, input().split())))\n",
    "target = int(input())\n",
    "cnt = 0\n",
    "\n",
    "num_1, num_2 = 0, num-1\n",
    "while num_1 < num_2:\n",
    "    temp = ls[num_1] + ls[num_2]\n",
    "    if temp == target:\n",
    "        cnt += 1\n",
    "        num_1 += 1\n",
    "    elif temp < target:\n",
    "        num_1 += 1\n",
    "    else:\n",
    "        num_2 -= 1\n",
    "print(cnt)"
   ]
  }
 ],
 "metadata": {
  "kernelspec": {
   "display_name": "Python 3 (ipykernel)",
   "language": "python",
   "name": "python3"
  },
  "language_info": {
   "codemirror_mode": {
    "name": "ipython",
    "version": 3
   },
   "file_extension": ".py",
   "mimetype": "text/x-python",
   "name": "python",
   "nbconvert_exporter": "python",
   "pygments_lexer": "ipython3",
   "version": "3.11.5"
  }
 },
 "nbformat": 4,
 "nbformat_minor": 5
}
