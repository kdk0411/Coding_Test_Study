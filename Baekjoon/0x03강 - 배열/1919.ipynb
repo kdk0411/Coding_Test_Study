{
 "cells": [
  {
   "cell_type": "markdown",
   "id": "8523f053",
   "metadata": {},
   "source": [
    "# 애너그램 만들기"
   ]
  },
  {
   "cell_type": "code",
   "execution_count": 4,
   "id": "780181bc",
   "metadata": {},
   "outputs": [
    {
     "name": "stdout",
     "output_type": "stream",
     "text": [
      "st_1:aabcc\n",
      "st_2:xxyyb\n",
      "st_1:aacc\n",
      "st_2:xxyy\n",
      "8\n"
     ]
    }
   ],
   "source": [
    "st_1 = input()\n",
    "st_2 = input()\n",
    "\n",
    "for i in st_1:\n",
    "    if i in st_2:\n",
    "        st_1 = st_1.replace(i, '', 1)\n",
    "        st_2 = st_2.replace(i, '', 1)\n",
    "\n",
    "print(len(st_1) + len(st_2))"
   ]
  }
 ],
 "metadata": {
  "kernelspec": {
   "display_name": "Python 3 (ipykernel)",
   "language": "python",
   "name": "python3"
  },
  "language_info": {
   "codemirror_mode": {
    "name": "ipython",
    "version": 3
   },
   "file_extension": ".py",
   "mimetype": "text/x-python",
   "name": "python",
   "nbconvert_exporter": "python",
   "pygments_lexer": "ipython3",
   "version": "3.11.5"
  }
 },
 "nbformat": 4,
 "nbformat_minor": 5
}
