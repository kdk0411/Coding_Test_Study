{
 "cells": [
  {
   "cell_type": "markdown",
   "id": "5433366d",
   "metadata": {},
   "source": [
    "# 키로거"
   ]
  },
  {
   "cell_type": "code",
   "execution_count": 2,
   "id": "ff6a8deb",
   "metadata": {},
   "outputs": [
    {
     "name": "stdout",
     "output_type": "stream",
     "text": [
      "1\n",
      "<<BP<A>>Cd-\n",
      "[]\n",
      "BAPC\n"
     ]
    }
   ],
   "source": [
    "num = int(input())\n",
    "\n",
    "for i in range(num):\n",
    "    word = input()\n",
    "    arr = []\n",
    "    cursor = []\n",
    "    for j in word:\n",
    "        if j == '<':\n",
    "            if arr:\n",
    "                cursor.append(arr.pop())\n",
    "        elif j == '>':\n",
    "            if cursor:\n",
    "                arr.append(cursor.pop())\n",
    "        elif j == '-':\n",
    "            if arr:\n",
    "                arr.pop()\n",
    "        else:\n",
    "            arr.append(j)\n",
    "    print(''.join(arr))"
   ]
  },
  {
   "cell_type": "code",
   "execution_count": null,
   "id": "1e737689",
   "metadata": {},
   "outputs": [],
   "source": []
  }
 ],
 "metadata": {
  "kernelspec": {
   "display_name": "Python 3 (ipykernel)",
   "language": "python",
   "name": "python3"
  },
  "language_info": {
   "codemirror_mode": {
    "name": "ipython",
    "version": 3
   },
   "file_extension": ".py",
   "mimetype": "text/x-python",
   "name": "python",
   "nbconvert_exporter": "python",
   "pygments_lexer": "ipython3",
   "version": "3.11.5"
  }
 },
 "nbformat": 4,
 "nbformat_minor": 5
}
