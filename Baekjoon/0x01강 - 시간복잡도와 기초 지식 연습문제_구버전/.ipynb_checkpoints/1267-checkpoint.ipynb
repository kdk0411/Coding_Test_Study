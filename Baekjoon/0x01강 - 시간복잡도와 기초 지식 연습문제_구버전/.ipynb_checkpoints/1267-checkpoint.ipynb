{
 "cells": [
  {
   "cell_type": "markdown",
   "id": "7897a0a9",
   "metadata": {},
   "source": [
    "# 핸드폰 요금"
   ]
  },
  {
   "cell_type": "markdown",
   "id": "dd8f1843",
   "metadata": {},
   "source": [
    "## 문제"
   ]
  },
  {
   "cell_type": "markdown",
   "id": "f286bace",
   "metadata": {},
   "source": [
    "동호는 새악대로 T 통신사의 새 핸드폰 옴머나를 샀다. 새악대로 T 통신사는 동호에게 다음 두 가지 요금제 중 하나를 선택하라고 했다.\n",
    "\n",
    "1. 영식 요금제\n",
    "2. 민식 요금제\n",
    "\n",
    "영식 요금제는 30초마다 10원씩 청구된다. 이 말은 만약 29초 또는 그 보다 적은 시간 통화를 했으면 10원이 청구된다. 만약 30초부터 59초 사이로 통화를 했으면 20원이 청구된다.\n",
    "\n",
    "민식 요금제는 60초마다 15원씩 청구된다. 이 말은 만약 59초 또는 그 보다 적은 시간 통화를 했으면 15원이 청구된다. 만약 60초부터 119초 사이로 통화를 했으면 30원이 청구된다.\n",
    "\n",
    "동호가 저번 달에 새악대로 T 통신사를 이용할 때 통화 시간 목록이 주어지면 어느 요금제를 사용 하는 것이 저렴한지 출력하는 프로그램을 작성하시오."
   ]
  },
  {
   "cell_type": "markdown",
   "id": "d18d7f84",
   "metadata": {},
   "source": [
    "## 입력"
   ]
  },
  {
   "cell_type": "markdown",
   "id": "5d0133d5",
   "metadata": {},
   "source": [
    "동호가 저번 달에 이용한 통화의 개수 N이 주어진다. N은 20보다 작거나 같은 자연수이다. 둘째 줄에 통화 시간 N개가 주어진다. 통화 시간은 10,000보다 작거나 같은 자연수이다."
   ]
  },
  {
   "cell_type": "markdown",
   "id": "673f3e11",
   "metadata": {},
   "source": [
    "## 출력"
   ]
  },
  {
   "cell_type": "markdown",
   "id": "659993f8",
   "metadata": {},
   "source": [
    "첫째 줄에 싼 요금제의 이름을 출력한다. 그 후에 공백을 사이에 두고 요금이 몇 원 나오는지 출력한다. 만약 두 요금제의 요금이 모두 같으면 영식을 먼저 쓰고 민식을 그 다음에 쓴다.\n",
    "\n",
    "영식은 Y로, 민식은 M으로 출력한다."
   ]
  },
  {
   "cell_type": "markdown",
   "id": "c0da42c0",
   "metadata": {},
   "source": [
    "## 예제 입력"
   ]
  },
  {
   "cell_type": "raw",
   "id": "487312db",
   "metadata": {},
   "source": [
    "3\n",
    "40 40 40\n",
    "\n",
    "영식: 20 + 20 + 20 = 60\n",
    "민식: 15 + 15 + 15 = 45"
   ]
  },
  {
   "cell_type": "markdown",
   "id": "8c279f4f",
   "metadata": {},
   "source": [
    "## 예제 출력"
   ]
  },
  {
   "cell_type": "raw",
   "id": "2d288b34",
   "metadata": {},
   "source": [
    "M 45"
   ]
  },
  {
   "cell_type": "code",
   "execution_count": 13,
   "id": "8a361e83",
   "metadata": {},
   "outputs": [
    {
     "name": "stdout",
     "output_type": "stream",
     "text": [
      "14 8\n",
      "5\n",
      "9 10 11 12 13 "
     ]
    }
   ],
   "source": [
    "a, b = map(int,input().split())\n",
    "start, end = min(a, b), max(a, b)\n",
    "\n",
    "middle = end - start - 1\n",
    "if start == end or start+1 == end:\n",
    "    middle = 0\n",
    "print(middle)\n",
    "\n",
    "for i in range(start+1, end):\n",
    "    print(i, end=' ')"
   ]
  }
 ],
 "metadata": {
  "kernelspec": {
   "display_name": "Python 3 (ipykernel)",
   "language": "python",
   "name": "python3"
  },
  "language_info": {
   "codemirror_mode": {
    "name": "ipython",
    "version": 3
   },
   "file_extension": ".py",
   "mimetype": "text/x-python",
   "name": "python",
   "nbconvert_exporter": "python",
   "pygments_lexer": "ipython3",
   "version": "3.11.5"
  }
 },
 "nbformat": 4,
 "nbformat_minor": 5
}
