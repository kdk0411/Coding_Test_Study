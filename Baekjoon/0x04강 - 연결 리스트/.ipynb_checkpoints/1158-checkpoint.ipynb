{
 "cells": [
  {
   "cell_type": "markdown",
   "id": "4cb0da7f",
   "metadata": {},
   "source": [
    "# 요세푸스 문제"
   ]
  },
  {
   "cell_type": "code",
   "execution_count": 3,
   "id": "629aa21b",
   "metadata": {},
   "outputs": [
    {
     "name": "stdout",
     "output_type": "stream",
     "text": [
      "7 3\n",
      "<3, 6, 2, 7, 5, 1, 4>\n"
     ]
    }
   ],
   "source": [
    "N, K = map(int, input().split())\n",
    "ls = [i for i in range(1, N+1)]\n",
    "\n",
    "answer_list = []\n",
    "cnt = 0\n",
    "for i in range(N):\n",
    "    cnt += K - 1\n",
    "    if cnt >= len(ls):\n",
    "        cnt = cnt%len(ls)\n",
    "    answer_list.append(str(ls.pop(cnt)))\n",
    "\n",
    "print(f\"<{', '.join(answer_list)}>\")"
   ]
  }
 ],
 "metadata": {
  "kernelspec": {
   "display_name": "Python 3 (ipykernel)",
   "language": "python",
   "name": "python3"
  },
  "language_info": {
   "codemirror_mode": {
    "name": "ipython",
    "version": 3
   },
   "file_extension": ".py",
   "mimetype": "text/x-python",
   "name": "python",
   "nbconvert_exporter": "python",
   "pygments_lexer": "ipython3",
   "version": "3.11.5"
  }
 },
 "nbformat": 4,
 "nbformat_minor": 5
}
