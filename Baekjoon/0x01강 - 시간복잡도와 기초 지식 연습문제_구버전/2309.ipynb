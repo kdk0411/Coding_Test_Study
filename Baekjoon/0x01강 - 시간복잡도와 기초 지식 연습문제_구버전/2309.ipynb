{
 "cells": [
  {
   "cell_type": "markdown",
   "id": "7897a0a9",
   "metadata": {},
   "source": [
    "# 일곱 난쟁이"
   ]
  },
  {
   "cell_type": "markdown",
   "id": "dd8f1843",
   "metadata": {},
   "source": [
    "## 문제"
   ]
  },
  {
   "cell_type": "markdown",
   "id": "f286bace",
   "metadata": {},
   "source": [
    "왕비를 피해 일곱 난쟁이들과 함께 평화롭게 생활하고 있던 백설공주에게 위기가 찾아왔다.<br>\n",
    "일과를 마치고 돌아온 난쟁이가 일곱 명이 아닌 아홉 명이었던 것이다.<br>\n",
    "\n",
    "아홉 명의 난쟁이는 모두 자신이 \"백설 공주와 일곱 난쟁이\"의 주인공이라고 주장했다.<br> \n",
    "뛰어난 수학적 직관력을 가지고 있던 백설공주는, 다행스럽게도 일곱 난쟁이의 키의 합이 100이 됨을 기억해 냈다.<br>\n",
    "\n",
    "아홉 난쟁이의 키가 주어졌을 때, 백설공주를 도와 일곱 난쟁이를 찾는 프로그램을 작성하시오."
   ]
  },
  {
   "cell_type": "markdown",
   "id": "d18d7f84",
   "metadata": {},
   "source": [
    "## 입력"
   ]
  },
  {
   "cell_type": "markdown",
   "id": "5d0133d5",
   "metadata": {},
   "source": [
    "아홉 개의 줄에 걸쳐 난쟁이들의 키가 주어진다.<br>\n",
    "주어지는 키는 100을 넘지 않는 자연수이며, 아홉 난쟁이의 키는 모두 다르며, 가능한 정답이 여러 가지인 경우에는 아무거나 출력한다."
   ]
  },
  {
   "cell_type": "markdown",
   "id": "673f3e11",
   "metadata": {},
   "source": [
    "## 출력"
   ]
  },
  {
   "cell_type": "markdown",
   "id": "659993f8",
   "metadata": {},
   "source": [
    "일곱 난쟁이의 키를 오름차순으로 출력한다. 일곱 난쟁이를 찾을 수 없는 경우는 없다."
   ]
  },
  {
   "cell_type": "markdown",
   "id": "c0da42c0",
   "metadata": {},
   "source": [
    "## 예제 입력"
   ]
  },
  {
   "cell_type": "raw",
   "id": "487312db",
   "metadata": {},
   "source": [
    "20\n",
    "7\n",
    "23\n",
    "19\n",
    "10\n",
    "15\n",
    "25\n",
    "8\n",
    "13"
   ]
  },
  {
   "cell_type": "markdown",
   "id": "8c279f4f",
   "metadata": {},
   "source": [
    "## 예제 출력"
   ]
  },
  {
   "cell_type": "raw",
   "id": "2d288b34",
   "metadata": {},
   "source": [
    "7\n",
    "8\n",
    "10\n",
    "13\n",
    "19\n",
    "20\n",
    "23"
   ]
  },
  {
   "cell_type": "code",
   "execution_count": 2,
   "id": "8a361e83",
   "metadata": {},
   "outputs": [
    {
     "name": "stdout",
     "output_type": "stream",
     "text": [
      "20\n",
      "7\n",
      "23\n",
      "19\n",
      "10\n",
      "15\n",
      "25\n",
      "8\n",
      "13\n",
      "7\n",
      "8\n",
      "10\n",
      "13\n",
      "19\n",
      "20\n",
      "23\n"
     ]
    }
   ],
   "source": [
    "arr = [int(input()) for _ in range(9)]\n",
    "ret = []\n",
    "\n",
    "def dfs(depth, start):\n",
    "    if depth == 7:\n",
    "        if sum(ret) == 100:\n",
    "            for j in sorted(ret):\n",
    "                print(j)\n",
    "            exit()\n",
    "         \n",
    "        else:\n",
    "            return\n",
    "    for i in range(start, len(arr)):\n",
    "        ret.append(arr[i])\n",
    "        dfs(depth+1, i+1)\n",
    "        ret.pop()\n",
    "\n",
    "dfs(0, 0)"
   ]
  }
 ],
 "metadata": {
  "kernelspec": {
   "display_name": "Python 3 (ipykernel)",
   "language": "python",
   "name": "python3"
  },
  "language_info": {
   "codemirror_mode": {
    "name": "ipython",
    "version": 3
   },
   "file_extension": ".py",
   "mimetype": "text/x-python",
   "name": "python",
   "nbconvert_exporter": "python",
   "pygments_lexer": "ipython3",
   "version": "3.11.5"
  }
 },
 "nbformat": 4,
 "nbformat_minor": 5
}
